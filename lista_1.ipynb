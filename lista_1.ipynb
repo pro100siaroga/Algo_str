{
 "cells": [
  {
   "cell_type": "markdown",
   "metadata": {},
   "source": [
    "# Lista 1\n",
    "\n",
    "     Wykonał: Sergei  Raikov \n",
    "     Numer  albumu: 255908 "
   ]
  },
  {
   "cell_type": "markdown",
   "metadata": {},
   "source": [
    "# Opis zadania\n",
    "### Zadanie polega na stworzeniu klasy ulamkow z mozliwoscia porownywania, dodawania, mnozenia, dzielenia, odejmowania pomiedzy soba"
   ]
  },
  {
   "cell_type": "code",
   "execution_count": 27,
   "metadata": {},
   "outputs": [],
   "source": [
    "class Frac():\n",
    "    \"\"\"\n",
    "    n - licznik\n",
    "    d - mianownik\n",
    "    c - całe częsci\n",
    "    Klasa tworzy ułamki, daje możliwość porównywania z typem int.\n",
    "    także da się porównać ułamki pomiędzy sobą\n",
    "    Ułamki można dodawać odejmować dzielić oraz mnożyć\n",
    "    \"\"\"\n",
    "    def __init__(self,n, d):\n",
    "        self.n = n\n",
    "        self.d = d\n",
    "        if not d != 0: raise ZeroDivisionError\n",
    "        if type(n) != int: raise ValueError\n",
    "        if type(d) != int: raise ValueError\n",
    "        if self.d < 0:\n",
    "            self.n = -self.n\n",
    "            self.d = -self.d\n",
    "        greatest = gcd(abs(self.n), abs(self.d))\n",
    "        self.n = (int(self.n/greatest))\n",
    "        self.d = int(self.d/greatest)\n",
    "    \n",
    "    \n",
    "    def get_num(self):\n",
    "        \"\"\"\n",
    "        Metoda zwracajaca licznik ulamku\n",
    "        \"\"\"\n",
    "        return self.n\n",
    "    \n",
    "    def get_den(self):\n",
    "        \"\"\"\n",
    "        Metoda zwracajaca mianownik ulamku\n",
    "        \"\"\"\n",
    "        return self.d\n",
    "    \n",
    "\n",
    "    def __neg__(self):\n",
    "        \"\"\"\n",
    "        Metoda umozliwiajaca na negowanie ulamku \n",
    "        po stworzeniu obiektu\n",
    "        \"\"\"\n",
    "        return Frac(-self.n , self.d)\n",
    "\n",
    "        \n",
    "    def __str__(self):\n",
    "        \"\"\"\n",
    "        Metoda pozwalajaca na reprezencje ulamku w postaci napisu\n",
    "        \"\"\"\n",
    "        return str(self.n) + \"/\" + str(self.d)\n",
    "    \n",
    "    \n",
    "    def __eq__(self, x):\n",
    "        \"\"\"\n",
    "        Metoda pozwalajaca na sprawdzenie rownosci (==) ulamkow\n",
    "        @x - ulamek z ktorym porownujemy\n",
    "        Zwraca True albo False\n",
    "        \"\"\"\n",
    "        x = check_int(x)\n",
    "        a = self.__str__()\n",
    "        b = x.__str__()\n",
    "        return a == b\n",
    "        \n",
    "    def __ne__(self, x):\n",
    "        \"\"\"\n",
    "        Metoda pozwalajaca na sprawdzenie nierownosci (!=) ulamkow\n",
    "        @x - ulamek z ktorym porownujemy\n",
    "        Zwraca True albo False\n",
    "        \"\"\"\n",
    "        y = self\n",
    "        x = check_int(x)\n",
    "        return not y.__eq__(x)\n",
    "    \n",
    "    def __lt__(self, x):\n",
    "        \"\"\"\n",
    "        Metoda pozwalajaca na sprawdzenie mneijszosci (<) ulamkow\n",
    "        @x - ulamek z ktorym porownujemy\n",
    "        Zwraca True albo False\n",
    "        \"\"\"\n",
    "        y = self\n",
    "        x = check_int(x)\n",
    "        return y.get_num() * x.get_den() < y.get_den() * x.get_num()\n",
    "    \n",
    "    def __le__(self, x):\n",
    "        \"\"\"\n",
    "        Metoda pozwalajaca na sprawdzenie mneijszosci i rownosci (<=) ulamkow\n",
    "        @x - ulamek z ktorym porownujemy\n",
    "        Zwraca True albo False\n",
    "        \"\"\"\n",
    "        y = self\n",
    "        x = check_int(x)\n",
    "        return not y.__gt__(x)\n",
    "    \n",
    "    def __gt__(self, x):\n",
    "        \"\"\"\n",
    "        Metoda pozwalajaca na sprawdzenie wieksosci i rownosci (>=) ulamkow\n",
    "        @x - ulamek z ktorym porownujemy\n",
    "        Zwraca True albo False\n",
    "        \"\"\"\n",
    "        y = self\n",
    "        x = check_int(x)\n",
    "        return y.get_num() * x.get_den() > y.get_den() * x.get_num()\n",
    "    \n",
    "    def __ge__(self, x):\n",
    "        \"\"\"\n",
    "        Metoda pozwalajaca na sprawdzenie wiekszosci (>) ulamkow\n",
    "        @x - ulamek z ktorym porownujemy\n",
    "        Zwraca True albo False\n",
    "        \"\"\"\n",
    "        y = self\n",
    "        x = check_int(x)\n",
    "        return not y.__lt__(x)\n",
    "    \n",
    "    def __add__(self, x):\n",
    "        \"\"\"\n",
    "        Metoda pozwalajaca na dodawanie ulamkow\n",
    "        @x - ulamek do dodania\n",
    "        Zwraca obiekt klasy Frac\n",
    "        \"\"\"\n",
    "        y = self\n",
    "        x = check_int(x)\n",
    "        n = y.get_num() * x.get_den() + x.get_num() * y.get_den()\n",
    "        d = y.get_den() * x.get_den()\n",
    "        return Frac(n, d) #Tworzymy obiekt naszej klasy z nowymi danymi\n",
    "    \n",
    "    def __sub__(self, x):\n",
    "        \"\"\"\n",
    "        Metoda pozwalajaca na dodawanie ulamkow\n",
    "        @x - ulamek do odejmowanie\n",
    "        Zwraca obiekt klasy Frac\n",
    "        \"\"\"\n",
    "        y = self\n",
    "        x = check_int(x)\n",
    "        n = y.get_num() * x.get_den() - x.get_num() * y.get_den()\n",
    "        d = y.get_den() * x.get_den()\n",
    "        return Frac(n, d)\n",
    "    \n",
    "    def __mul__(self, x):\n",
    "        \"\"\"\n",
    "        Metoda pozwalajaca na mnozenie ulamkow\n",
    "        @x - ulamek do dodania\n",
    "        Zwraca obiekt klasy Frac\n",
    "        \"\"\"\n",
    "        y = self\n",
    "        x = check_int(x)\n",
    "        n = y.get_num() * x.get_num() \n",
    "        d = y.get_den() * x.get_den()\n",
    "        return Frac(n, d)\n",
    "    \n",
    "    def __rmul__(self, x):\n",
    "        \"\"\"\n",
    "        Metoda pozwalajaca na mnozenie ulamkow przez int z prawej strony\n",
    "        @x - ulamek do dodania\n",
    "        Zwraca obiekt klasy Frac\n",
    "        \"\"\"\n",
    "        y = self\n",
    "        x = check_int(x)\n",
    "        n = y.get_num() * x.get_num() \n",
    "        d = y.get_den() * x.get_den()\n",
    "        return Frac(n, d)\n",
    "    \n",
    "    def __truediv__(self, x):\n",
    "        \"\"\"\n",
    "        Metoda pozwalajaca na dzielenie ulamkow\n",
    "        @x - ulamek do dodania\n",
    "        Zwraca obiekt klasy Frac\n",
    "        \"\"\"\n",
    "        y = self\n",
    "        x = check_int(x)\n",
    "        n = y.get_num() * x.get_den()\n",
    "        d = y.get_den() * x.get_num()\n",
    "        return Frac(n, d)\n",
    "        \n",
    "def check_int(x):\n",
    "    \"\"\"\n",
    "    Funkcja spradzajaca czy argument jest liczba typu int\n",
    "    Jesli jest to przeksztalca ta liczbe w obiekt klasy Frac\n",
    "    Umozliwia to mnozenie oraz porownywanie ulamkow z liczbami typu int\n",
    "    \"\"\"\n",
    "    if isinstance(x, int):\n",
    "        x = Frac(x, 1)  \n",
    "    return x\n",
    "\n",
    "def gcd(a, b):\n",
    "    \"\"\"\n",
    "    Znajduje najwiekszy wspolny dzielnik 2 liczb\n",
    "    Umozliwia to skracanie ulamkow\n",
    "    \"\"\"\n",
    "    if b > 0:\n",
    "        return gcd(b, a%b)\n",
    "    return a"
   ]
  },
  {
   "cell_type": "markdown",
   "metadata": {},
   "source": [
    "# Opis wynikow zadania\n",
    "### Zostala stworzona klasa Frac ktora pozwala na tworzenie ulamkow, na ktorych mozemy wykonywac podstawowe dzialania algebraiczne (dodawanie, mnozenie i td).\n",
    "### Rowniez wszystkie ulamki mozna porownywac pomiedzy soba a nawet z liczbami calkowitymi\n",
    "### Przy tworzeniu obiektow klasy (ulamkow) podajemy 2 argumenty (n, d) licznik i mianownik. Obie te liczby powinne byc liczbami calkowitymi\n",
    "# TRZEBA ROWNIEZ PAMIETAC ZE NIE DZIELIMY PRZEZ ZERO.\n",
    "### Jak bedziemy bardzo chcieli to dostaniemy wyjatek, rowniez jak w powyzszym przypadku przy podawaniu argumentow roznych od typu int (liczb calkowitych). \n",
    "### Kazdy z argumentow moze byc ujemny, w przypadku jak obydwa beda ujemne to dastaniemy ulamek dodatni\n",
    "### Zostaly tez napisane funkcje wspomagajace: check_int(x) ktora przyjmuje jeden argument i w przypadku jak ten argument bedzie liczba calkowita to przeksztalca go w ulamek klasy Frac. Zrobione to zostalo aby umozliwic dzialania algebraiczne oraz porownywanie pomiedzy liczbami calkowitymi oraz ulamkami. Druga funkcja gcd(a,b) przyjmuje dwie liczby i znajduje najwiekszy wspolny dzielnik tych dwoch liczb, daje nam to mozliwosc skracania ulamkow."
   ]
  },
  {
   "cell_type": "markdown",
   "metadata": {},
   "source": [
    "# Dodatkowe komponenty klasy\n",
    "\n",
    "### Podstawowe dzialania algebraiczne z liczbami calkowitymi. Negowanie ulamkow (zmiana znaku). Porownywanie ulamkow z liczbami calkowitymi"
   ]
  },
  {
   "cell_type": "code",
   "execution_count": 20,
   "metadata": {},
   "outputs": [],
   "source": [
    "f1 = Frac(1, 2)\n",
    "f2 = Frac(-2, 4)\n",
    "f3 = Frac(3, 7)\n",
    "f4 = Frac(2, 12)\n",
    "f5 = Frac(-4, 7)\n",
    "f6 = Frac(4, -7)\n",
    "f7 = Frac(256, -512)\n",
    "f8 = Frac(-2, -5)"
   ]
  },
  {
   "cell_type": "code",
   "execution_count": 4,
   "metadata": {},
   "outputs": [
    {
     "name": "stdout",
     "output_type": "stream",
     "text": [
      "0/1\n"
     ]
    }
   ],
   "source": [
    "print(f1 + f2)"
   ]
  },
  {
   "cell_type": "code",
   "execution_count": 5,
   "metadata": {},
   "outputs": [
    {
     "name": "stdout",
     "output_type": "stream",
     "text": [
      "1/1\n"
     ]
    }
   ],
   "source": [
    "print(f1 - f2)"
   ]
  },
  {
   "cell_type": "code",
   "execution_count": 6,
   "metadata": {},
   "outputs": [
    {
     "name": "stdout",
     "output_type": "stream",
     "text": [
      "0/1\n"
     ]
    }
   ],
   "source": [
    "print(f1 - -f2)# poniewaz -f2 jest -(-(1/2))"
   ]
  },
  {
   "cell_type": "code",
   "execution_count": 12,
   "metadata": {},
   "outputs": [
    {
     "name": "stdout",
     "output_type": "stream",
     "text": [
      "-1/2\n"
     ]
    }
   ],
   "source": [
    "print(-f1)"
   ]
  },
  {
   "cell_type": "code",
   "execution_count": 8,
   "metadata": {},
   "outputs": [
    {
     "name": "stdout",
     "output_type": "stream",
     "text": [
      "3/14\n"
     ]
    }
   ],
   "source": [
    "print(f1*f3)"
   ]
  },
  {
   "cell_type": "code",
   "execution_count": 11,
   "metadata": {},
   "outputs": [
    {
     "name": "stdout",
     "output_type": "stream",
     "text": [
      "-1/1\n"
     ]
    }
   ],
   "source": [
    "print(f1 / f2)"
   ]
  },
  {
   "cell_type": "code",
   "execution_count": 9,
   "metadata": {},
   "outputs": [
    {
     "name": "stdout",
     "output_type": "stream",
     "text": [
      "1/2\n"
     ]
    }
   ],
   "source": [
    "print(f1 * 1) # dodane zostalo mnozenie przez liczby calkowite"
   ]
  },
  {
   "cell_type": "code",
   "execution_count": 10,
   "metadata": {},
   "outputs": [
    {
     "name": "stdout",
     "output_type": "stream",
     "text": [
      "-1/1\n"
     ]
    }
   ],
   "source": [
    "print(2 * f2)"
   ]
  },
  {
   "cell_type": "code",
   "execution_count": 13,
   "metadata": {},
   "outputs": [
    {
     "name": "stdout",
     "output_type": "stream",
     "text": [
      "True\n"
     ]
    }
   ],
   "source": [
    "print((f2 + 1) == f1)"
   ]
  },
  {
   "cell_type": "code",
   "execution_count": 14,
   "metadata": {},
   "outputs": [
    {
     "data": {
      "text/plain": [
       "True"
      ]
     },
     "execution_count": 14,
     "metadata": {},
     "output_type": "execute_result"
    }
   ],
   "source": [
    "-f1 <= f2"
   ]
  },
  {
   "cell_type": "code",
   "execution_count": 15,
   "metadata": {},
   "outputs": [
    {
     "name": "stdout",
     "output_type": "stream",
     "text": [
      "True\n"
     ]
    }
   ],
   "source": [
    "print(f1 >= f2)"
   ]
  },
  {
   "cell_type": "code",
   "execution_count": 16,
   "metadata": {},
   "outputs": [
    {
     "name": "stdout",
     "output_type": "stream",
     "text": [
      "True\n"
     ]
    }
   ],
   "source": [
    "print(f1 > f2)"
   ]
  },
  {
   "cell_type": "code",
   "execution_count": 17,
   "metadata": {},
   "outputs": [
    {
     "name": "stdout",
     "output_type": "stream",
     "text": [
      "False\n"
     ]
    }
   ],
   "source": [
    "print(f1 < f2)"
   ]
  },
  {
   "cell_type": "code",
   "execution_count": 164,
   "metadata": {},
   "outputs": [
    {
     "name": "stdout",
     "output_type": "stream",
     "text": [
      "6/1\n"
     ]
    }
   ],
   "source": [
    "print(12 * f1)"
   ]
  },
  {
   "cell_type": "code",
   "execution_count": 161,
   "metadata": {},
   "outputs": [
    {
     "data": {
      "text/plain": [
       "True"
      ]
     },
     "execution_count": 161,
     "metadata": {},
     "output_type": "execute_result"
    }
   ],
   "source": [
    "f1 > f2"
   ]
  },
  {
   "cell_type": "code",
   "execution_count": 94,
   "metadata": {},
   "outputs": [
    {
     "data": {
      "text/plain": [
       "False"
      ]
     },
     "execution_count": 94,
     "metadata": {},
     "output_type": "execute_result"
    }
   ],
   "source": [
    "f1 < -f2"
   ]
  },
  {
   "cell_type": "code",
   "execution_count": 80,
   "metadata": {},
   "outputs": [
    {
     "name": "stdout",
     "output_type": "stream",
     "text": [
      "1/4\n"
     ]
    }
   ],
   "source": [
    "print(f2*f7)"
   ]
  },
  {
   "cell_type": "code",
   "execution_count": 81,
   "metadata": {},
   "outputs": [
    {
     "name": "stdout",
     "output_type": "stream",
     "text": [
      "1/1\n"
     ]
    }
   ],
   "source": [
    "print(f2/f7)"
   ]
  },
  {
   "cell_type": "code",
   "execution_count": 83,
   "metadata": {},
   "outputs": [
    {
     "name": "stdout",
     "output_type": "stream",
     "text": [
      "True\n"
     ]
    }
   ],
   "source": [
    "print(f1>=f7)"
   ]
  },
  {
   "cell_type": "code",
   "execution_count": 87,
   "metadata": {},
   "outputs": [
    {
     "name": "stdout",
     "output_type": "stream",
     "text": [
      "-1/6\n"
     ]
    }
   ],
   "source": [
    "print(f1*f4/f7)"
   ]
  },
  {
   "cell_type": "code",
   "execution_count": 84,
   "metadata": {},
   "outputs": [
    {
     "name": "stdout",
     "output_type": "stream",
     "text": [
      "False\n"
     ]
    }
   ],
   "source": [
    "print(f1<=f2)"
   ]
  },
  {
   "cell_type": "code",
   "execution_count": 18,
   "metadata": {},
   "outputs": [
    {
     "name": "stdout",
     "output_type": "stream",
     "text": [
      "13/84\n"
     ]
    }
   ],
   "source": [
    "print(f1*f2/f3+f4-f5)"
   ]
  },
  {
   "cell_type": "code",
   "execution_count": 19,
   "metadata": {},
   "outputs": [
    {
     "name": "stdout",
     "output_type": "stream",
     "text": [
      "11/56\n"
     ]
    }
   ],
   "source": [
    "print(f1*f2-f3+f7/f5)"
   ]
  },
  {
   "cell_type": "markdown",
   "metadata": {},
   "source": [
    "# Wieksza czesc testow zostala sprawdzona na prawidlowosc recznie badz za pomoca Wolfram Alpha"
   ]
  }
 ],
 "metadata": {
  "kernelspec": {
   "display_name": "Python 3",
   "language": "python",
   "name": "python3"
  },
  "language_info": {
   "codemirror_mode": {
    "name": "ipython",
    "version": 3
   },
   "file_extension": ".py",
   "mimetype": "text/x-python",
   "name": "python",
   "nbconvert_exporter": "python",
   "pygments_lexer": "ipython3",
   "version": "3.7.6"
  }
 },
 "nbformat": 4,
 "nbformat_minor": 4
}
